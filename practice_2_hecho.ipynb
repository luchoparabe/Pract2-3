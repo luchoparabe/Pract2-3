{
 "cells": [
  {
   "cell_type": "markdown",
   "metadata": {
    "collapsed": false
   },
   "source": [
    "# Práctica 2\n",
    "\n",
    "Para esta tarea, veremos los datos de vacunas de 2017. El archivo con estos datos está en `/data/NISPUF17.csv`. Para conocer los nombres de las variables de los datos tienes disponible una guía de usuarios de datos en `/data/NIS-PUF17-DUG.pdf`."
   ]
  },
  {
   "cell_type": "markdown",
   "metadata": {
    "collapsed": false
   },
   "source": [
    "## Pregunta 1\n",
    "\n",
    "Escribe una función llamada `proportion_of_education` que devuelva la proporción de niños en el dataset que tuvieron una madre con los niveles de educación: igual a menor de secundaria (<12), secundaria (12), mayor que secundaria pero sin ser universitaria graduada (>12) y con título universitario.\n",
    "\n",
    "Esta función debería devolver un diccionario en forma de (use los números correctos, no redondee los números):\n",
    "\n",
    "```python\n",
    "{\"menor que  secundaria\": 0.2,\n",
    " \"secundaria\": 0.4,\n",
    " \"mayor a secundaria pero no universitaria\": 0.2,\n",
    " \"universitaria\": 0.2}\n",
    "```\n"
   ]
  },
  {
   "cell_type": "code",
   "execution_count": 8,
   "metadata": {
    "ExecuteTime": {
     "end_time": "2023-05-21T22:00:42.430893575Z",
     "start_time": "2023-05-21T22:00:42.382088417Z"
    },
    "collapsed": false
   },
   "outputs": [
    {
     "data": {
      "text/plain": [
       "{'Menor secundaria': 0.10202002459160373,\n",
       " 'En Secundaria': 0.172352011241876,\n",
       " 'Mayor secundaria, no universitaria': 0.24588090637625154,\n",
       " 'Universitaria': 0.47974705779026877}"
      ]
     },
     "execution_count": 8,
     "metadata": {},
     "output_type": "execute_result"
    }
   ],
   "source": [
    "import pandas as pd\n",
    "\n",
    "\n",
    "def proportion_of_education():\n",
    "   \n",
    "    dfin = pd.read_csv('../data/NISPUF17.csv')\n",
    "\n",
    "    \n",
    "    cant_ninos = len(dfin)\n",
    "\n",
    "    \n",
    "    edu_madres = dfin['EDUC1'].value_counts().sort_index()\n",
    "    \n",
    "\n",
    "    \n",
    "    proporcion = edu_madres / cant_ninos\n",
    "\n",
    "    etiquetas = {\n",
    "        1: \"Menor secundaria\",\n",
    "        2: \"En Secundaria\",\n",
    "        3: \"Mayor secundaria, no universitaria\",\n",
    "        4: \"Universitaria\"\n",
    "    }\n",
    "\n",
    "    resultado = {etiquetas[i]: proporcion[i] for i in etiquetas}\n",
    "    return resultado\n",
    "\n",
    "\n",
    "proportion_of_education()"
   ]
  },
  {
   "cell_type": "markdown",
   "metadata": {
    "collapsed": false
   },
   "source": [
    "## Pregunta 2\n",
    "\n",
    "Exploremos la relación entre ser alimentado con leche materna (fed breast milk) cuando era niño y recibir una vacuna contra la influenza estacional (seasonal influenza) de un proveedor de atención médica.\n",
    "\n",
    "Devuelva una tupla del número promedio de vacunas contra la influenza para aquellos niños que sabemos que recibieron leche materna cuando eran niños y aquellos que sabemos que no."
   ]
  },
  {
   "cell_type": "code",
   "execution_count": 11,
   "metadata": {
    "collapsed": false
   },
   "outputs": [
    {
     "data": {
      "text/plain": [
       "(1.5963945918878317, 1.5963945918878317)"
      ]
     },
     "execution_count": 11,
     "metadata": {},
     "output_type": "execute_result"
    }
   ],
   "source": [
    "import pandas as pd\n",
    "\n",
    "def average_influenza_doses():\n",
    "    defi = pd.read_csv('../data/NISPUF17.csv')\n",
    "\n",
    "    filtrado = defi[['CBF_01','P_NUMFLU']].dropna()\n",
    "\n",
    "    prom_lech_matern = filtrado[filtrado['CBF_01'] == 1 ]['P_NUMFLU'].mean()\n",
    "\n",
    "    prom_lech_matern  = filtrado[filtrado['CBF_01'] == 2 ]['P_NUMFLU'].mean()\n",
    "\n",
    "    return (prom_lech_matern , prom_lech_matern)\n",
    "\n",
    "average_influenza_doses()"
   ]
  },
  {
   "cell_type": "markdown",
   "metadata": {
    "collapsed": false
   },
   "source": [
    "# Pregunta 3\n",
    "\n",
    "Sería interesante ver si hay evidencia de un vínculo entre la efectividad de la vacuna y el sexo del niño.\n",
    "Calcule el ratio entre el número de niños que contrajeron varicela (chickenpox) pero que fueron vacunados contra ella (al menos una dosis) versus los que fueron vacunados y no contrajeron varicela.\n",
    "\n",
    "Devuelve los resultados por sexo.\n",
    "\n",
    "Esta función debería devolver un diccionario en forma de:\n",
    "\n",
    "```python\n",
    "{\"male\": 0.2, \"female\": 0.4}\n",
    "```\n",
    "\n",
    "Nota: Para ayudar en la verificación, el valor de chickenpox_by_sex()['female'] comienza con los dígitos 0.0077."
   ]
  },
  {
   "cell_type": "code",
   "execution_count": 14,
   "metadata": {
    "collapsed": false
   },
   "outputs": [
    {
     "name": "stdout",
     "output_type": "stream",
     "text": [
      "68\n",
      "7028\n",
      "53\n",
      "6802\n"
     ]
    },
    {
     "data": {
      "text/plain": [
       "{'Male': 0.009675583380762664, 'Female': 0.0077918259335489565}"
      ]
     },
     "execution_count": 14,
     "metadata": {},
     "output_type": "execute_result"
    }
   ],
   "source": [
    "import pandas as pd\n",
    "\n",
    "def chickenpox_by_sex():\n",
    "   \n",
    "    defi = pd.read_csv('../data/NISPUF17.csv')\n",
    "\n",
    "    vaccinated_boys_with_chickenpox = len(defi[(defi['SEX'] == 1) & (defi['P_NUMVRC'] >= 1) & (defi['HAD_CPOX'] == 1)])\n",
    "    vaccinated_boys_without_chickenpox = len(defi[(defi['SEX'] == 1) & (defi['P_NUMVRC'] >= 1) & (defi['HAD_CPOX'] == 2)])\n",
    "\n",
    "    vaccinated_girls_with_chickenpox = len(defi[(defi['SEX'] == 2) & (defi['P_NUMVRC'] >= 1) & (defi['HAD_CPOX'] == 1)])\n",
    "    vaccinated_girls_without_chickenpox = len(defi[(defi['SEX'] == 2) & (defi['P_NUMVRC'] >= 1) & (defi['HAD_CPOX'] == 2)])\n",
    "\n",
    "    print(vaccinated_boys_with_chickenpox)\n",
    "    print(vaccinated_boys_without_chickenpox)\n",
    "    print(vaccinated_girls_with_chickenpox)\n",
    "    print(vaccinated_girls_without_chickenpox)\n",
    "\n",
    "    ratio_by_sex = {\n",
    "        \"Male\": vaccinated_boys_with_chickenpox / vaccinated_boys_without_chickenpox,\n",
    "        \"Female\": vaccinated_girls_with_chickenpox / vaccinated_girls_without_chickenpox\n",
    "    }\n",
    "\n",
    "    return ratio_by_sex\n",
    "\n",
    "chickenpox_by_sex()"
   ]
  },
  {
   "cell_type": "code",
   "execution_count": null,
   "metadata": {
    "collapsed": false
   },
   "outputs": [],
   "source": []
  }
 ],
 "metadata": {
  "kernelspec": {
   "display_name": "Python 3",
   "language": "python",
   "name": "python3"
  },
  "language_info": {
   "codemirror_mode": {
    "name": "ipython",
    "version": 3
   },
   "file_extension": ".py",
   "mimetype": "text/x-python",
   "name": "python",
   "nbconvert_exporter": "python",
   "pygments_lexer": "ipython3",
   "version": "3.11.4"
  }
 },
 "nbformat": 4,
 "nbformat_minor": 0
}
